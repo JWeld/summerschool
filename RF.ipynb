{
 "cells": [
  {
   "cell_type": "code",
   "execution_count": 10,
   "metadata": {},
   "outputs": [],
   "source": [
    "# using RF to estimate L.x and F.x (highest correlation & second highest) \n",
    "import pandas as pd\n",
    "import matplotlib.pyplot as plt\n",
    "import numpy as np\n",
    "from sklearn.model_selection import train_test_split\n",
    "import numpy as np \n",
    "import pandas as pd \n",
    "from sklearn.preprocessing import LabelEncoder, StandardScaler\n",
    "from sklearn.model_selection import cross_val_score\n",
    "from sklearn.ensemble import RandomForestRegressor\n",
    "import matplotlib.pyplot as plt\n",
    "from math import sqrt\n",
    "from sklearn.preprocessing import StandardScaler\n",
    "from sklearn import metrics\n",
    "from sklearn.model_selection import cross_validate\n"
   ]
  },
  {
   "cell_type": "code",
   "execution_count": 5,
   "metadata": {},
   "outputs": [],
   "source": [
    "dataset=pd.read_csv('/Users/yawei/Documents/SM_ML/combined_data_7_sept.csv')\n",
    "dataset.columns\n",
    "dataset=dataset.dropna() "
   ]
  },
  {
   "cell_type": "code",
   "execution_count": 12,
   "metadata": {},
   "outputs": [],
   "source": [
    "#                     ## L.x Estimation ##\n",
    "# Training in Germany, validation in France\n",
    "dataset_de=dataset[dataset['country']=='Germany']\n",
    "#dataset[dataset['country']=='France']"
   ]
  },
  {
   "cell_type": "code",
   "execution_count": 13,
   "metadata": {},
   "outputs": [
    {
     "data": {
      "text/plain": [
       "Index(['F.x', 'R.x', 'N.x', 'T.x', 'div.x', 'rich.x', 'L.y', 'F.y', 'R.y',\n",
       "       'N.y', 'T.y', 'div.y', 'rich.y', 'n_nh4', 'n_no3', 'latitude',\n",
       "       'longitude', 'survey_year', 'code_country', 'sum_canopy', 'mean_temp',\n",
       "       'mean_summer_temp', 'mean_winter_temp', 'mean_precip', 'n', 'p', 'N.P'],\n",
       "      dtype='object')"
      ]
     },
     "execution_count": 13,
     "metadata": {},
     "output_type": "execute_result"
    }
   ],
   "source": [
    "# y: target\n",
    "X_Lx = dataset_de.drop(['grp_tree_species'],axis=1).drop(['country'],axis=1).drop(['species_name'],axis=1).drop(['ID_fine'],axis=1).drop(['ID'],axis=1).drop(['ID_siteplot'],axis=1).drop(['L.x'],axis=1).drop(['ID_site'],axis=1).drop(['plot.x'],axis=1)#[1:]\n",
    "y_Lx = dataset_de['L.x'].values\n",
    "X_Lx.columns"
   ]
  },
  {
   "cell_type": "code",
   "execution_count": 14,
   "metadata": {},
   "outputs": [
    {
     "name": "stdout",
     "output_type": "stream",
     "text": [
      "In Germany\n",
      "Mean Absolute Error: 0.21154329044537987\n",
      "Mean Squared Error: 0.11289671048288931\n",
      "Root Mean Squared Error: 0.33600105726454094\n",
      "Training score: R^2 = 0.988314, Test score: R^2 = 0.955063\n"
     ]
    }
   ],
   "source": [
    "# DO RANDOM FORESTS\n",
    "max_depth = 500 \n",
    "X_train, X_test, y_train, y_test = train_test_split(X_Lx, y_Lx, train_size=0.8, random_state=0)\n",
    "regr_rf = RandomForestRegressor(n_estimators=2000, max_depth=max_depth,random_state=0)\n",
    "#X_train#, y_train\n",
    "regr_rf.fit(X_train, y_train)\n",
    "#print results\n",
    "y_pred = regr_rf.predict(X_test)\n",
    "\n",
    "# Print the primary result in Germany\n",
    "print('In Germany')\n",
    "print('Mean Absolute Error:', metrics.mean_absolute_error(y_test, y_pred))  \n",
    "print('Mean Squared Error:', metrics.mean_squared_error(y_test, y_pred))  \n",
    "print('Root Mean Squared Error:', np.sqrt(metrics.mean_squared_error(y_test, y_pred)))  \n",
    "print(\"Training score: R^2 = %f, Test score: R^2 = %f\" % (regr_rf.score(X_train,y_train),regr_rf.score(X_test,y_test)))\n"
   ]
  },
  {
   "cell_type": "code",
   "execution_count": 15,
   "metadata": {},
   "outputs": [
    {
     "name": "stdout",
     "output_type": "stream",
     "text": [
      "{'fit_time': array([11.23357296, 11.28048205, 10.1436739 , 10.42294383,  9.87762308]), 'score_time': array([0.12586212, 0.1367178 , 0.13197517, 0.13348413, 0.13400483]), 'test_score': array([0.7955085 , 0.91477049, 0.97336089, 0.88872052, 0.60914198])}\n"
     ]
    }
   ],
   "source": [
    "# Cross validation, 5 folds\n",
    "cv_results = cross_validate(regr_rf, X_Lx, y_Lx, cv=5)\n",
    "print (cv_results)"
   ]
  },
  {
   "cell_type": "code",
   "execution_count": 16,
   "metadata": {},
   "outputs": [],
   "source": [
    "## Validation result in France is not good which demonstrates L.x cannot transform to other area. Maybe we don't show it here?\n",
    "\n",
    "#dataset_fr=dataset[dataset['country']=='France']\n",
    "#X_Lx2 = dataset_fr.drop(['grp_tree_species'],axis=1).drop(['country'],axis=1).drop(['species_name'],axis=1).drop(['ID_fine'],axis=1).drop(['ID'],axis=1).drop(['ID_siteplot'],axis=1).drop(['R.x'],axis=1).drop(['ID_site'],axis=1).drop(['plot.x'],axis=1)#[1:]\n",
    "#y_Lx2 = dataset_fr['R.x'].values\n",
    "#y_pred2 = regr_rf.predict(X_Lx2)"
   ]
  },
  {
   "cell_type": "code",
   "execution_count": 18,
   "metadata": {},
   "outputs": [],
   "source": [
    "# plot\n",
    "## \n",
    "#fig = plt.figure()\n",
    "#ax = plt.subplot()\n",
    "\n",
    "#plt.xlabel(\"L.x True Value\")\n",
    "\n",
    "#plt.ylabel(\"L.x Estimator\")\n",
    "#plt.title(\"Validatation of random forests over France\")\n",
    "\n",
    "#x = np.linspace(0, 7,1000)\n",
    "\n",
    "#plt.xlim((0, 7)) # the range of x\n",
    "#plt.ylim((0, 7)) # the range of y\n",
    "\n",
    "#plt.plot(x, x, color=\"black\") ##  adding the 1:1 line\n",
    "\n",
    "#p2 = plt.scatter(y_Lx2, y_pred2, marker = '+', color = 'c', s = 50)  \n",
    "\n",
    "#plt.show()\n",
    "\n",
    "\n",
    "#print('Mean Absolute Error:', metrics.mean_absolute_error(y_Lx2, y_pred2))  \n",
    "#print('Mean Squared Error:', metrics.mean_squared_error(y_Lx2, y_pred2))  \n",
    "#print('Root Mean Squared Error:', np.sqrt(metrics.mean_squared_error(y_Lx2, y_pred2))) \n",
    "#print(\"Test score: R^2 = %f\" % (regr_rf.score(X_Lx2,y_pred2)))"
   ]
  },
  {
   "cell_type": "code",
   "execution_count": 19,
   "metadata": {},
   "outputs": [
    {
     "data": {
      "text/plain": [
       "Index(['L.x', 'F.x', 'N.x', 'T.x', 'div.x', 'rich.x', 'L.y', 'F.y', 'R.y',\n",
       "       'N.y', 'T.y', 'div.y', 'rich.y', 'n_nh4', 'n_no3', 'latitude',\n",
       "       'longitude', 'survey_year', 'code_country', 'sum_canopy', 'mean_temp',\n",
       "       'mean_summer_temp', 'mean_winter_temp', 'mean_precip', 'n', 'p', 'N.P'],\n",
       "      dtype='object')"
      ]
     },
     "execution_count": 19,
     "metadata": {},
     "output_type": "execute_result"
    }
   ],
   "source": [
    "#                     ## F.x Estimation ##\n",
    "# Training in Germany\n",
    "X = dataset_de.drop(['grp_tree_species'],axis=1).drop(['country'],axis=1).drop(['species_name'],axis=1).drop(['ID_fine'],axis=1).drop(['ID'],axis=1).drop(['ID_siteplot'],axis=1).drop(['R.x'],axis=1).drop(['ID_site'],axis=1).drop(['plot.x'],axis=1)#[1:]\n",
    "y = dataset_de['R.x'].values\n",
    "X.columns\n",
    "#y"
   ]
  },
  {
   "cell_type": "code",
   "execution_count": 20,
   "metadata": {},
   "outputs": [
    {
     "name": "stdout",
     "output_type": "stream",
     "text": [
      "0.9708782678713009 0.8363699805034507\n"
     ]
    }
   ],
   "source": [
    "max_depth = 500 \n",
    "X_train, X_test, y_train, y_test = train_test_split(X, y, train_size=0.8, random_state=0)\n",
    "regr_rf = RandomForestRegressor(n_estimators=2000, max_depth=max_depth,random_state=0)\n",
    "#X_train#, y_train\n",
    "regr_rf.fit(X_train, y_train)\n",
    "#y_pred = regr_rf.predict(X_test)\n",
    "print(regr_rf.score(X_train,y_train),regr_rf.score(X_test,y_test))\n"
   ]
  },
  {
   "cell_type": "code",
   "execution_count": 21,
   "metadata": {},
   "outputs": [
    {
     "name": "stdout",
     "output_type": "stream",
     "text": [
      "In Germany\n",
      "Mean Absolute Error: 0.29597660067121934\n",
      "Mean Squared Error: 0.22833895674884197\n",
      "Root Mean Squared Error: 0.4778482570323365\n",
      "Training score: R^2 = 0.970878, Test score: R^2 = 0.836370\n"
     ]
    }
   ],
   "source": [
    "#print results\n",
    "y_pred = regr_rf.predict(X_test)\n",
    "print('In Germany')\n",
    "#print(regr_rf.score(X_train,y_train),regr_rf.score(X_test,y_test))\n",
    "print('Mean Absolute Error:', metrics.mean_absolute_error(y_test, y_pred))  \n",
    "print('Mean Squared Error:', metrics.mean_squared_error(y_test, y_pred))  \n",
    "print('Root Mean Squared Error:', np.sqrt(metrics.mean_squared_error(y_test, y_pred)))  \n",
    "print(\"Training score: R^2 = %f, Test score: R^2 = %f\" % (regr_rf.score(X_train,y_train),regr_rf.score(X_test,y_test)))"
   ]
  },
  {
   "cell_type": "code",
   "execution_count": 22,
   "metadata": {},
   "outputs": [],
   "source": [
    "# cross validation, 5 folds\n",
    "cv_results = cross_validate(regr_rf, X, y, cv=5)"
   ]
  },
  {
   "cell_type": "code",
   "execution_count": 23,
   "metadata": {
    "scrolled": true
   },
   "outputs": [
    {
     "name": "stdout",
     "output_type": "stream",
     "text": [
      "{'fit_time': array([14.69241023, 15.28309298, 15.36717892, 14.80846596, 13.3688488 ]), 'score_time': array([0.12915707, 0.15140891, 0.13884687, 0.13421321, 0.13307691]), 'test_score': array([0.57711053, 0.71939825, 0.83328425, 0.73559748, 0.74574958])}\n"
     ]
    }
   ],
   "source": [
    "print (cv_results)"
   ]
  },
  {
   "cell_type": "code",
   "execution_count": 28,
   "metadata": {},
   "outputs": [],
   "source": [
    "## Validation in France\n",
    "dataset_fr=dataset[dataset['country']=='France']\n",
    "X = dataset_fr.drop(['grp_tree_species'],axis=1).drop(['country'],axis=1).drop(['species_name'],axis=1).drop(['ID_fine'],axis=1).drop(['ID'],axis=1).drop(['ID_siteplot'],axis=1).drop(['R.x'],axis=1).drop(['ID_site'],axis=1).drop(['plot.x'],axis=1)#[1:]\n",
    "y = dataset_fr['R.x'].values\n",
    "y_pred = regr_rf.predict(X)\n",
    "#X.columns"
   ]
  },
  {
   "cell_type": "code",
   "execution_count": 29,
   "metadata": {},
   "outputs": [
    {
     "data": {
      "text/plain": [
       "((352, 27), (352,), (352,))"
      ]
     },
     "execution_count": 29,
     "metadata": {},
     "output_type": "execute_result"
    }
   ],
   "source": [
    "X.shape, y.shape,y_pred.shape"
   ]
  },
  {
   "cell_type": "code",
   "execution_count": 30,
   "metadata": {},
   "outputs": [
    {
     "data": {
      "image/png": "[encoded data removed]",
      "text/plain": [
       "<Figure size 432x288 with 1 Axes>"
      ]
     },
     "metadata": {
      "needs_background": "light"
     },
     "output_type": "display_data"
    },
    {
     "name": "stdout",
     "output_type": "stream",
     "text": [
      "Mean Absolute Error: 0.564878719348329\n",
      "Mean Squared Error: 0.5833235412719886\n",
      "Root Mean Squared Error: 0.7637562053901681\n",
      "Test score: R^2 = 0.655397\n"
     ]
    }
   ],
   "source": [
    "# plot\n",
    "fig = plt.figure()\n",
    "ax = plt.subplot()\n",
    "\n",
    "plt.xlabel(\"Moisture True Value\")\n",
    "\n",
    "plt.ylabel(\"Moisture Estimator\")\n",
    "plt.title(\"Validatation of random forests over France\")\n",
    "\n",
    "x = np.linspace(0, 6,1000)\n",
    "\n",
    "plt.xlim((0, 6)) # the range of x\n",
    "plt.ylim((0, 6)) # the range of y\n",
    "\n",
    "plt.plot(x, x, color=\"black\") ##  adding the 1:1 line\n",
    "\n",
    "p2 = plt.scatter(y, y_pred, marker = '+', color = 'c', label=\"RF Test score: $R^2$ = %.2f\" % (regr_rf.score(X,y_pred)), s = 50)  \n",
    "\n",
    "plt.show()\n",
    "\n",
    "\n",
    "#print('Validation in France')\n",
    "#print(regr_rf.score(X_train,y_train),regr_rf.score(X_test,y_test))\n",
    "print('Mean Absolute Error:', metrics.mean_absolute_error(y, y_pred))  \n",
    "print('Mean Squared Error:', metrics.mean_squared_error(y, y_pred))  \n",
    "print('Root Mean Squared Error:', np.sqrt(metrics.mean_squared_error(y, y_pred))) \n",
    "print(\"Test score: R^2 = %f\" % (regr_rf.score(X,y)))\n"
   ]
  },
  {
   "cell_type": "code",
   "execution_count": null,
   "metadata": {},
   "outputs": [],
   "source": []
  },
  {
   "cell_type": "code",
   "execution_count": null,
   "metadata": {},
   "outputs": [],
   "source": []
  }
 ],
 "metadata": {
  "kernelspec": {
   "display_name": "Python 3",
   "language": "python",
   "name": "python3"
  },
  "language_info": {
   "codemirror_mode": {
    "name": "ipython",
    "version": 3
   },
   "file_extension": ".py",
   "mimetype": "text/x-python",
   "name": "python",
   "nbconvert_exporter": "python",
   "pygments_lexer": "ipython3",
   "version": "3.7.4"
  }
 },
 "nbformat": 4,
 "nbformat_minor": 4
}
